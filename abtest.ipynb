{
 "cells": [
  {
   "cell_type": "code",
   "execution_count": 3,
   "id": "fda9e143",
   "metadata": {},
   "outputs": [
    {
     "data": {
      "text/html": [
       "<div>\n",
       "<style scoped>\n",
       "    .dataframe tbody tr th:only-of-type {\n",
       "        vertical-align: middle;\n",
       "    }\n",
       "\n",
       "    .dataframe tbody tr th {\n",
       "        vertical-align: top;\n",
       "    }\n",
       "\n",
       "    .dataframe thead th {\n",
       "        text-align: right;\n",
       "    }\n",
       "</style>\n",
       "<table border=\"1\" class=\"dataframe\">\n",
       "  <thead>\n",
       "    <tr style=\"text-align: right;\">\n",
       "      <th></th>\n",
       "      <th>Date</th>\n",
       "      <th>Device</th>\n",
       "      <th>Address</th>\n",
       "      <th>Clicks</th>\n",
       "      <th>Visitors</th>\n",
       "      <th>Group</th>\n",
       "    </tr>\n",
       "  </thead>\n",
       "  <tbody>\n",
       "    <tr>\n",
       "      <th>0</th>\n",
       "      <td>2023-05-18</td>\n",
       "      <td>Mobile</td>\n",
       "      <td>fyttlyf/business/campaign/campaigns-business/c...</td>\n",
       "      <td>159</td>\n",
       "      <td>199</td>\n",
       "      <td>Control</td>\n",
       "    </tr>\n",
       "    <tr>\n",
       "      <th>1</th>\n",
       "      <td>2023-05-18</td>\n",
       "      <td>Laptop</td>\n",
       "      <td>fyttlyf/business/campaign/get-paid///</td>\n",
       "      <td>18</td>\n",
       "      <td>1413</td>\n",
       "      <td>Experiment</td>\n",
       "    </tr>\n",
       "    <tr>\n",
       "      <th>2</th>\n",
       "      <td>2023-05-18</td>\n",
       "      <td>Mobile</td>\n",
       "      <td>fyttlyf/business/campaign/campaigns-business/s...</td>\n",
       "      <td>142</td>\n",
       "      <td>759</td>\n",
       "      <td>Control</td>\n",
       "    </tr>\n",
       "    <tr>\n",
       "      <th>3</th>\n",
       "      <td>2023-05-18</td>\n",
       "      <td>Laptop</td>\n",
       "      <td>fyttlyf/business/product/business-financial-se...</td>\n",
       "      <td>126</td>\n",
       "      <td>473</td>\n",
       "      <td>Control</td>\n",
       "    </tr>\n",
       "    <tr>\n",
       "      <th>4</th>\n",
       "      <td>2023-05-18</td>\n",
       "      <td>Laptop</td>\n",
       "      <td>fyttlyf/business/product/business-accept-payme...</td>\n",
       "      <td>129</td>\n",
       "      <td>183</td>\n",
       "      <td>Control</td>\n",
       "    </tr>\n",
       "  </tbody>\n",
       "</table>\n",
       "</div>"
      ],
      "text/plain": [
       "        Date  Device                                            Address  \\\n",
       "0 2023-05-18  Mobile  fyttlyf/business/campaign/campaigns-business/c...   \n",
       "1 2023-05-18  Laptop              fyttlyf/business/campaign/get-paid///   \n",
       "2 2023-05-18  Mobile  fyttlyf/business/campaign/campaigns-business/s...   \n",
       "3 2023-05-18  Laptop  fyttlyf/business/product/business-financial-se...   \n",
       "4 2023-05-18  Laptop  fyttlyf/business/product/business-accept-payme...   \n",
       "\n",
       "   Clicks  Visitors       Group  \n",
       "0     159       199     Control  \n",
       "1      18      1413  Experiment  \n",
       "2     142       759     Control  \n",
       "3     126       473     Control  \n",
       "4     129       183     Control  "
      ]
     },
     "execution_count": 3,
     "metadata": {},
     "output_type": "execute_result"
    }
   ],
   "source": [
    "import pandas as pd\n",
    "import matplotlib.pyplot as plt\n",
    "import seaborn as sns\n",
    "\n",
    "# Step 1: Load the data into a DataFrame\n",
    "abtest = pd.read_excel(\"AssignmentData.xlsx\", sheet_name=\"ABTest\")\n",
    "\n",
    "# Perform exploratory analysis\n",
    "abtest.head()"
   ]
  },
  {
   "cell_type": "code",
   "execution_count": 4,
   "id": "c7808b8c",
   "metadata": {},
   "outputs": [
    {
     "name": "stdout",
     "output_type": "stream",
     "text": [
      "<class 'pandas.core.frame.DataFrame'>\n",
      "RangeIndex: 18099 entries, 0 to 18098\n",
      "Data columns (total 6 columns):\n",
      " #   Column    Non-Null Count  Dtype         \n",
      "---  ------    --------------  -----         \n",
      " 0   Date      18099 non-null  datetime64[ns]\n",
      " 1   Device    18099 non-null  object        \n",
      " 2   Address   18099 non-null  object        \n",
      " 3   Clicks    18099 non-null  int64         \n",
      " 4   Visitors  18099 non-null  int64         \n",
      " 5   Group     18099 non-null  object        \n",
      "dtypes: datetime64[ns](1), int64(2), object(3)\n",
      "memory usage: 848.5+ KB\n"
     ]
    }
   ],
   "source": [
    "abtest.info() # Summary of DataFrame including data types and missing values"
   ]
  },
  {
   "cell_type": "code",
   "execution_count": 5,
   "id": "534ebefd",
   "metadata": {},
   "outputs": [
    {
     "data": {
      "text/html": [
       "<div>\n",
       "<style scoped>\n",
       "    .dataframe tbody tr th:only-of-type {\n",
       "        vertical-align: middle;\n",
       "    }\n",
       "\n",
       "    .dataframe tbody tr th {\n",
       "        vertical-align: top;\n",
       "    }\n",
       "\n",
       "    .dataframe thead th {\n",
       "        text-align: right;\n",
       "    }\n",
       "</style>\n",
       "<table border=\"1\" class=\"dataframe\">\n",
       "  <thead>\n",
       "    <tr style=\"text-align: right;\">\n",
       "      <th></th>\n",
       "      <th>Clicks</th>\n",
       "      <th>Visitors</th>\n",
       "    </tr>\n",
       "  </thead>\n",
       "  <tbody>\n",
       "    <tr>\n",
       "      <th>count</th>\n",
       "      <td>18099.000000</td>\n",
       "      <td>18099.000000</td>\n",
       "    </tr>\n",
       "    <tr>\n",
       "      <th>mean</th>\n",
       "      <td>62.600033</td>\n",
       "      <td>495.485441</td>\n",
       "    </tr>\n",
       "    <tr>\n",
       "      <th>std</th>\n",
       "      <td>377.536611</td>\n",
       "      <td>5704.920360</td>\n",
       "    </tr>\n",
       "    <tr>\n",
       "      <th>min</th>\n",
       "      <td>0.000000</td>\n",
       "      <td>0.000000</td>\n",
       "    </tr>\n",
       "    <tr>\n",
       "      <th>25%</th>\n",
       "      <td>6.000000</td>\n",
       "      <td>21.000000</td>\n",
       "    </tr>\n",
       "    <tr>\n",
       "      <th>50%</th>\n",
       "      <td>11.000000</td>\n",
       "      <td>33.000000</td>\n",
       "    </tr>\n",
       "    <tr>\n",
       "      <th>75%</th>\n",
       "      <td>20.000000</td>\n",
       "      <td>97.000000</td>\n",
       "    </tr>\n",
       "    <tr>\n",
       "      <th>max</th>\n",
       "      <td>11199.000000</td>\n",
       "      <td>211868.000000</td>\n",
       "    </tr>\n",
       "  </tbody>\n",
       "</table>\n",
       "</div>"
      ],
      "text/plain": [
       "             Clicks       Visitors\n",
       "count  18099.000000   18099.000000\n",
       "mean      62.600033     495.485441\n",
       "std      377.536611    5704.920360\n",
       "min        0.000000       0.000000\n",
       "25%        6.000000      21.000000\n",
       "50%       11.000000      33.000000\n",
       "75%       20.000000      97.000000\n",
       "max    11199.000000  211868.000000"
      ]
     },
     "execution_count": 5,
     "metadata": {},
     "output_type": "execute_result"
    }
   ],
   "source": [
    "abtest.describe()"
   ]
  },
  {
   "cell_type": "code",
   "execution_count": 6,
   "id": "0eee100f",
   "metadata": {},
   "outputs": [],
   "source": [
    "abtest['Date'] = pd.to_datetime(abtest['Date'])"
   ]
  },
  {
   "cell_type": "code",
   "execution_count": 9,
   "id": "5f364d74",
   "metadata": {},
   "outputs": [
    {
     "data": {
      "image/png": "[encoded data removed]",
      "text/plain": [
       "<Figure size 1000x600 with 1 Axes>"
      ]
     },
     "metadata": {},
     "output_type": "display_data"
    }
   ],
   "source": [
    "# Group by 'Date' and 'Device' to get total number of clicks for each combination\n",
    "clicks_by_device_date = abtest.groupby(['Date', 'Device'])['Clicks'].sum().reset_index()\n",
    "\n",
    "# Plotting\n",
    "plt.figure(figsize=(10, 6))\n",
    "sns.lineplot(data=clicks_by_device_date, x='Date', y='Clicks', hue='Device')\n",
    "plt.title('Total Number of Clicks by Device Over Time')\n",
    "plt.xlabel('Date')\n",
    "plt.ylabel('Total Number of Clicks')\n",
    "plt.xticks(rotation=45)\n",
    "plt.tight_layout()\n",
    "plt.legend(title='Device')\n",
    "plt.show()\n"
   ]
  },
  {
   "cell_type": "code",
   "execution_count": 13,
   "id": "1988350e",
   "metadata": {},
   "outputs": [
    {
     "name": "stdout",
     "output_type": "stream",
     "text": [
      "Baseline Conversion Rate (Control): 0.1096500442226737\n",
      "Baseline Conversion Rate (Treatment): 0.2608438730766084\n",
      "Expected Lift: 0.15119382885393468\n"
     ]
    }
   ],
   "source": [
    "# Assuming 'abtest' is the DataFrame containing the A/B test data\n",
    "\n",
    "# Calculate baseline conversion rate for the control group\n",
    "baseline_conversion_rate_control = abtest[(abtest['Group'] == 'Control')]['Clicks'].sum() / abtest[(abtest['Group'] == 'Control')]['Visitors'].sum()\n",
    "\n",
    "# Calculate baseline conversion rate for the treatment group\n",
    "baseline_conversion_rate_treatment = abtest[(abtest['Group'] == 'Experiment')]['Clicks'].sum() / abtest[(abtest['Group'] == 'Experiment')]['Visitors'].sum()\n",
    "\n",
    "# Calculate expected lift\n",
    "expected_lift = baseline_conversion_rate_treatment - baseline_conversion_rate_control\n",
    "\n",
    "print(\"Baseline Conversion Rate (Control):\", baseline_conversion_rate_control)\n",
    "print(\"Baseline Conversion Rate (Treatment):\", baseline_conversion_rate_treatment)\n",
    "print(\"Expected Lift:\", expected_lift)\n"
   ]
  },
  {
   "cell_type": "code",
   "execution_count": 14,
   "id": "27f2b1af",
   "metadata": {},
   "outputs": [
    {
     "name": "stdout",
     "output_type": "stream",
     "text": [
      "Required Sample Size: 61\n"
     ]
    }
   ],
   "source": [
    "from statsmodels.stats.power import TTestIndPower\n",
    "\n",
    "# Set parameters\n",
    "baseline_conversion_rate = 0.11  # 11%\n",
    "expected_lift = 0.26  # 26%\n",
    "\n",
    "# Calculate pooled standard deviation\n",
    "pooled_std_dev = ((baseline_conversion_rate * (1 - baseline_conversion_rate)) + ((baseline_conversion_rate + expected_lift) * (1 - (baseline_conversion_rate + expected_lift)))) ** 0.5\n",
    "\n",
    "# Calculate effect size\n",
    "effect_size = expected_lift / pooled_std_dev\n",
    "\n",
    "# Initialize TTestIndPower object\n",
    "power_analysis = TTestIndPower()\n",
    "\n",
    "# Calculate sample size\n",
    "sample_size = power_analysis.solve_power(effect_size=effect_size, alpha=0.05, power=0.80, alternative='larger')\n",
    "\n",
    "print(\"Required Sample Size:\", round(sample_size))\n"
   ]
  },
  {
   "cell_type": "code",
   "execution_count": 15,
   "id": "2f3be49b",
   "metadata": {
    "scrolled": true
   },
   "outputs": [
    {
     "name": "stdout",
     "output_type": "stream",
     "text": [
      "Actual Sample Size: 18099\n"
     ]
    }
   ],
   "source": [
    "actual_sample_size = len(abtest)\n",
    "print(\"Actual Sample Size:\", actual_sample_size)"
   ]
  },
  {
   "cell_type": "code",
   "execution_count": null,
   "id": "8c439898",
   "metadata": {},
   "outputs": [],
   "source": []
  },
  {
   "cell_type": "code",
   "execution_count": null,
   "id": "8472c84e",
   "metadata": {},
   "outputs": [],
   "source": []
  },
  {
   "cell_type": "code",
   "execution_count": 16,
   "id": "36e48528",
   "metadata": {},
   "outputs": [
    {
     "name": "stdout",
     "output_type": "stream",
     "text": [
      "AB Test Result: Indeterminate\n"
     ]
    }
   ],
   "source": [
    "from scipy.stats import norm\n",
    "\n",
    "def perform_ab_test(control_visitors, control_conversions, treatment_visitors, treatment_conversions, confidence_level):\n",
    "    # Calculate conversion rates\n",
    "    control_conversion_rate = control_conversions / control_visitors\n",
    "    treatment_conversion_rate = treatment_conversions / treatment_visitors\n",
    "    \n",
    "    # Calculate pooled probability\n",
    "    pooled_probability = (control_conversions + treatment_conversions) / (control_visitors + treatment_visitors)\n",
    "    \n",
    "    # Calculate pooled standard error\n",
    "    pooled_std_error = (pooled_probability * (1 - pooled_probability) * ((1 / control_visitors) + (1 / treatment_visitors))) ** 0.5\n",
    "    \n",
    "    # Calculate z-score\n",
    "    z_score = (treatment_conversion_rate - control_conversion_rate) / pooled_std_error\n",
    "    \n",
    "    # Determine critical value based on confidence level\n",
    "    if confidence_level == 90:\n",
    "        critical_value = norm.ppf(0.95)\n",
    "    elif confidence_level == 95:\n",
    "        critical_value = norm.ppf(0.975)\n",
    "    elif confidence_level == 99:\n",
    "        critical_value = norm.ppf(0.995)\n",
    "    else:\n",
    "        raise ValueError(\"Invalid confidence level. Choose from 90, 95, or 99.\")\n",
    "    \n",
    "    # Compare z-score with critical value\n",
    "    if z_score > critical_value:\n",
    "        return \"Experiment Group is Better\"\n",
    "    elif z_score < -critical_value:\n",
    "        return \"Control Group is Better\"\n",
    "    else:\n",
    "        return \"Indeterminate\"\n",
    "\n",
    "# Example usage:\n",
    "# Replace the arguments with actual values from your dataset\n",
    "result = perform_ab_test(control_visitors=500, control_conversions=50, treatment_visitors=550, treatment_conversions=70, confidence_level=95)\n",
    "print(\"AB Test Result:\", result)\n"
   ]
  },
  {
   "cell_type": "code",
   "execution_count": 17,
   "id": "f8b852f5",
   "metadata": {},
   "outputs": [
    {
     "name": "stdout",
     "output_type": "stream",
     "text": [
      "AB Test Result: Experiment Group is Better\n"
     ]
    }
   ],
   "source": [
    "# import pandas as pd\n",
    "\n",
    "# Assuming 'data' is the DataFrame containing your data\n",
    "# First, filter the DataFrame to separate control and treatment groups\n",
    "control_data = abtest[abtest['Group'] == 'Control']\n",
    "treatment_data = abtest[abtest['Group'] == 'Experiment']\n",
    "\n",
    "# Next, calculate the number of visitors and conversions for each group\n",
    "control_visitors = control_data['Visitors'].sum()\n",
    "control_conversions = control_data['Clicks'].sum()\n",
    "treatment_visitors = treatment_data['Visitors'].sum()\n",
    "treatment_conversions = treatment_data['Clicks'].sum()\n",
    "\n",
    "# Now, call the perform_ab_test function with the calculated values\n",
    "result = perform_ab_test(control_visitors, control_conversions, treatment_visitors, treatment_conversions, confidence_level=95)\n",
    "print(\"AB Test Result:\", result)\n"
   ]
  },
  {
   "cell_type": "code",
   "execution_count": null,
   "id": "172f2619",
   "metadata": {},
   "outputs": [],
   "source": []
  }
 ],
 "metadata": {
  "kernelspec": {
   "display_name": "Python 3 (ipykernel)",
   "language": "python",
   "name": "python3"
  },
  "language_info": {
   "codemirror_mode": {
    "name": "ipython",
    "version": 3
   },
   "file_extension": ".py",
   "mimetype": "text/x-python",
   "name": "python",
   "nbconvert_exporter": "python",
   "pygments_lexer": "ipython3",
   "version": "3.9.13"
  }
 },
 "nbformat": 4,
 "nbformat_minor": 5
}
